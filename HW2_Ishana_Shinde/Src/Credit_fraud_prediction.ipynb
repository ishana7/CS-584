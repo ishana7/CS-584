{
  "nbformat": 4,
  "nbformat_minor": 0,
  "metadata": {
    "colab": {
      "name": "Credit fraud prediction.ipynb",
      "provenance": [],
      "collapsed_sections": []
    },
    "kernelspec": {
      "name": "python3",
      "display_name": "Python 3"
    },
    "language_info": {
      "name": "python"
    }
  },
  "cells": [
    {
      "cell_type": "markdown",
      "metadata": {
        "id": "erFqw_Rt0Zuk"
      },
      "source": [
        "ASSIGNMENT 2 - CREDIT FRAUD PREDICTION."
      ]
    },
    {
      "cell_type": "markdown",
      "metadata": {
        "id": "-iIFBdQJ0idT"
      },
      "source": [
        "1. Import Libraries."
      ]
    },
    {
      "cell_type": "code",
      "metadata": {
        "id": "4dSXBD3AizbC"
      },
      "source": [
        "import pandas as pd\n",
        "import numpy as np\n",
        "from sklearn.preprocessing import LabelEncoder\n"
      ],
      "execution_count": 50,
      "outputs": []
    },
    {
      "cell_type": "markdown",
      "metadata": {
        "id": "u0URopa80mUE"
      },
      "source": [
        "2. Read the Training csv file. "
      ]
    },
    {
      "cell_type": "code",
      "metadata": {
        "colab": {
          "base_uri": "https://localhost:8080/",
          "height": 419
        },
        "id": "hseeH4sQloKw",
        "outputId": "3e450a59-7377-4b80-f0d6-172a1ff7a714"
      },
      "source": [
        "Train_df = pd.read_csv('1631544228_021599_credit_train.csv')\n",
        "Train_df.head(60)\n",
        "Train_df.dropna()"
      ],
      "execution_count": 51,
      "outputs": [
        {
          "output_type": "execute_result",
          "data": {
            "text/html": [
              "<div>\n",
              "<style scoped>\n",
              "    .dataframe tbody tr th:only-of-type {\n",
              "        vertical-align: middle;\n",
              "    }\n",
              "\n",
              "    .dataframe tbody tr th {\n",
              "        vertical-align: top;\n",
              "    }\n",
              "\n",
              "    .dataframe thead th {\n",
              "        text-align: right;\n",
              "    }\n",
              "</style>\n",
              "<table border=\"1\" class=\"dataframe\">\n",
              "  <thead>\n",
              "    <tr style=\"text-align: right;\">\n",
              "      <th></th>\n",
              "      <th>id</th>\n",
              "      <th>F1</th>\n",
              "      <th>F2</th>\n",
              "      <th>F3</th>\n",
              "      <th>F4</th>\n",
              "      <th>F5</th>\n",
              "      <th>F6</th>\n",
              "      <th>F7</th>\n",
              "      <th>F8</th>\n",
              "      <th>F9</th>\n",
              "      <th>F10</th>\n",
              "      <th>F11</th>\n",
              "      <th>credit</th>\n",
              "    </tr>\n",
              "  </thead>\n",
              "  <tbody>\n",
              "    <tr>\n",
              "      <th>0</th>\n",
              "      <td>0</td>\n",
              "      <td>13</td>\n",
              "      <td>40</td>\n",
              "      <td>1</td>\n",
              "      <td>1</td>\n",
              "      <td>2174</td>\n",
              "      <td>0</td>\n",
              "      <td>4</td>\n",
              "      <td>7</td>\n",
              "      <td>9</td>\n",
              "      <td>White</td>\n",
              "      <td>Male</td>\n",
              "      <td>0</td>\n",
              "    </tr>\n",
              "    <tr>\n",
              "      <th>1</th>\n",
              "      <td>1</td>\n",
              "      <td>13</td>\n",
              "      <td>13</td>\n",
              "      <td>0</td>\n",
              "      <td>4</td>\n",
              "      <td>0</td>\n",
              "      <td>0</td>\n",
              "      <td>2</td>\n",
              "      <td>6</td>\n",
              "      <td>9</td>\n",
              "      <td>White</td>\n",
              "      <td>Male</td>\n",
              "      <td>0</td>\n",
              "    </tr>\n",
              "    <tr>\n",
              "      <th>2</th>\n",
              "      <td>2</td>\n",
              "      <td>9</td>\n",
              "      <td>40</td>\n",
              "      <td>1</td>\n",
              "      <td>6</td>\n",
              "      <td>0</td>\n",
              "      <td>0</td>\n",
              "      <td>0</td>\n",
              "      <td>4</td>\n",
              "      <td>11</td>\n",
              "      <td>White</td>\n",
              "      <td>Male</td>\n",
              "      <td>0</td>\n",
              "    </tr>\n",
              "    <tr>\n",
              "      <th>3</th>\n",
              "      <td>3</td>\n",
              "      <td>7</td>\n",
              "      <td>40</td>\n",
              "      <td>0</td>\n",
              "      <td>6</td>\n",
              "      <td>0</td>\n",
              "      <td>0</td>\n",
              "      <td>2</td>\n",
              "      <td>4</td>\n",
              "      <td>1</td>\n",
              "      <td>Black</td>\n",
              "      <td>Male</td>\n",
              "      <td>0</td>\n",
              "    </tr>\n",
              "    <tr>\n",
              "      <th>4</th>\n",
              "      <td>4</td>\n",
              "      <td>13</td>\n",
              "      <td>40</td>\n",
              "      <td>5</td>\n",
              "      <td>10</td>\n",
              "      <td>0</td>\n",
              "      <td>0</td>\n",
              "      <td>2</td>\n",
              "      <td>4</td>\n",
              "      <td>9</td>\n",
              "      <td>Black</td>\n",
              "      <td>Female</td>\n",
              "      <td>0</td>\n",
              "    </tr>\n",
              "    <tr>\n",
              "      <th>...</th>\n",
              "      <td>...</td>\n",
              "      <td>...</td>\n",
              "      <td>...</td>\n",
              "      <td>...</td>\n",
              "      <td>...</td>\n",
              "      <td>...</td>\n",
              "      <td>...</td>\n",
              "      <td>...</td>\n",
              "      <td>...</td>\n",
              "      <td>...</td>\n",
              "      <td>...</td>\n",
              "      <td>...</td>\n",
              "      <td>...</td>\n",
              "    </tr>\n",
              "    <tr>\n",
              "      <th>32556</th>\n",
              "      <td>32556</td>\n",
              "      <td>12</td>\n",
              "      <td>38</td>\n",
              "      <td>5</td>\n",
              "      <td>13</td>\n",
              "      <td>0</td>\n",
              "      <td>0</td>\n",
              "      <td>2</td>\n",
              "      <td>4</td>\n",
              "      <td>7</td>\n",
              "      <td>White</td>\n",
              "      <td>Female</td>\n",
              "      <td>0</td>\n",
              "    </tr>\n",
              "    <tr>\n",
              "      <th>32557</th>\n",
              "      <td>32557</td>\n",
              "      <td>9</td>\n",
              "      <td>40</td>\n",
              "      <td>0</td>\n",
              "      <td>7</td>\n",
              "      <td>0</td>\n",
              "      <td>0</td>\n",
              "      <td>2</td>\n",
              "      <td>4</td>\n",
              "      <td>11</td>\n",
              "      <td>White</td>\n",
              "      <td>Male</td>\n",
              "      <td>1</td>\n",
              "    </tr>\n",
              "    <tr>\n",
              "      <th>32558</th>\n",
              "      <td>32558</td>\n",
              "      <td>9</td>\n",
              "      <td>40</td>\n",
              "      <td>4</td>\n",
              "      <td>1</td>\n",
              "      <td>0</td>\n",
              "      <td>0</td>\n",
              "      <td>6</td>\n",
              "      <td>4</td>\n",
              "      <td>11</td>\n",
              "      <td>White</td>\n",
              "      <td>Female</td>\n",
              "      <td>0</td>\n",
              "    </tr>\n",
              "    <tr>\n",
              "      <th>32559</th>\n",
              "      <td>32559</td>\n",
              "      <td>9</td>\n",
              "      <td>20</td>\n",
              "      <td>3</td>\n",
              "      <td>1</td>\n",
              "      <td>0</td>\n",
              "      <td>0</td>\n",
              "      <td>4</td>\n",
              "      <td>4</td>\n",
              "      <td>11</td>\n",
              "      <td>White</td>\n",
              "      <td>Male</td>\n",
              "      <td>0</td>\n",
              "    </tr>\n",
              "    <tr>\n",
              "      <th>32560</th>\n",
              "      <td>32560</td>\n",
              "      <td>9</td>\n",
              "      <td>40</td>\n",
              "      <td>5</td>\n",
              "      <td>4</td>\n",
              "      <td>15024</td>\n",
              "      <td>0</td>\n",
              "      <td>2</td>\n",
              "      <td>5</td>\n",
              "      <td>11</td>\n",
              "      <td>White</td>\n",
              "      <td>Female</td>\n",
              "      <td>1</td>\n",
              "    </tr>\n",
              "  </tbody>\n",
              "</table>\n",
              "<p>32561 rows × 13 columns</p>\n",
              "</div>"
            ],
            "text/plain": [
              "          id  F1  F2  F3  F4     F5  F6  F7  F8  F9     F10      F11  credit\n",
              "0          0  13  40   1   1   2174   0   4   7   9   White     Male       0\n",
              "1          1  13  13   0   4      0   0   2   6   9   White     Male       0\n",
              "2          2   9  40   1   6      0   0   0   4  11   White     Male       0\n",
              "3          3   7  40   0   6      0   0   2   4   1   Black     Male       0\n",
              "4          4  13  40   5  10      0   0   2   4   9   Black   Female       0\n",
              "...      ...  ..  ..  ..  ..    ...  ..  ..  ..  ..     ...      ...     ...\n",
              "32556  32556  12  38   5  13      0   0   2   4   7   White   Female       0\n",
              "32557  32557   9  40   0   7      0   0   2   4  11   White     Male       1\n",
              "32558  32558   9  40   4   1      0   0   6   4  11   White   Female       0\n",
              "32559  32559   9  20   3   1      0   0   4   4  11   White     Male       0\n",
              "32560  32560   9  40   5   4  15024   0   2   5  11   White   Female       1\n",
              "\n",
              "[32561 rows x 13 columns]"
            ]
          },
          "metadata": {},
          "execution_count": 51
        }
      ]
    },
    {
      "cell_type": "markdown",
      "metadata": {
        "id": "i25gco9nY7av"
      },
      "source": [
        "Pearson Correlation among the columns"
      ]
    },
    {
      "cell_type": "code",
      "metadata": {
        "colab": {
          "base_uri": "https://localhost:8080/"
        },
        "id": "-Dm5jV5HP00s",
        "outputId": "99729fd6-99ce-4171-a604-4f7f746de169"
      },
      "source": [
        "print(Train_df.corr())"
      ],
      "execution_count": 52,
      "outputs": [
        {
          "output_type": "stream",
          "name": "stdout",
          "text": [
            "              id        F1        F2  ...        F8        F9    credit\n",
            "id      1.000000 -0.001079  0.000607  ... -0.000166 -0.006697  0.005404\n",
            "F1     -0.001079  1.000000  0.148123  ...  0.052085  0.359153  0.335154\n",
            "F2      0.000607  0.148123  1.000000  ...  0.138962  0.055510  0.229689\n",
            "F3     -0.004055 -0.094153 -0.248974  ... -0.090461 -0.010876 -0.250918\n",
            "F4     -0.001430  0.109697  0.080383  ...  0.254892 -0.021260  0.075468\n",
            "F5      0.001672  0.122630  0.078409  ...  0.033835  0.030046  0.223329\n",
            "F6     -0.001188  0.079923  0.054256  ...  0.012216  0.016746  0.150526\n",
            "F7     -0.000401 -0.069304 -0.190519  ... -0.064731 -0.038407 -0.199307\n",
            "F8     -0.000166  0.052085  0.138962  ...  1.000000  0.023513  0.051604\n",
            "F9     -0.006697  0.359153  0.055510  ...  0.023513  1.000000  0.079317\n",
            "credit  0.005404  0.335154  0.229689  ...  0.051604  0.079317  1.000000\n",
            "\n",
            "[11 rows x 11 columns]\n"
          ]
        }
      ]
    },
    {
      "cell_type": "markdown",
      "metadata": {
        "id": "OnrjWqnLZFHF"
      },
      "source": [
        "One Hot Encoding - on train data"
      ]
    },
    {
      "cell_type": "code",
      "metadata": {
        "id": "rn3sgAbDptLG"
      },
      "source": [
        "from sklearn.preprocessing import OneHotEncoder\n",
        "# creating one hot encoder object \n",
        "onehotencoder = OneHotEncoder()\n",
        "#reshape the 1-D country array to 2-D as fit_transform expects 2-D and finally fit the object \n",
        "X = onehotencoder.fit_transform(Train_df[\"F10\"].values.reshape(-1,1)).toarray()\n",
        "#To add this back into the original dataframe \n",
        "dfOneHot = pd.DataFrame(X, columns = [\"F10_\"+str(int(i)) for i in range(len(Train_df[\"F10\"].unique()))]) \n",
        "Train_df = pd.concat([Train_df, dfOneHot], axis=1)"
      ],
      "execution_count": 53,
      "outputs": []
    },
    {
      "cell_type": "code",
      "metadata": {
        "id": "Bz1HwGY1Kn-i"
      },
      "source": [
        "from sklearn.preprocessing import OneHotEncoder\n",
        "# creating one hot encoder object \n",
        "onehotencoder = OneHotEncoder()\n",
        "#reshape the 1-D country array to 2-D as fit_transform expects 2-D and finally fit the object \n",
        "X = onehotencoder.fit_transform(Train_df[\"F11\"].values.reshape(-1,1)).toarray()\n",
        "#To add this back into the original dataframe \n",
        "dfOneHot = pd.DataFrame(X, columns = [\"F11_\"+str(int(i)) for i in range(len(Train_df[\"F11\"].unique()))]) \n",
        "Train_df = pd.concat([Train_df, dfOneHot], axis=1)"
      ],
      "execution_count": 54,
      "outputs": []
    },
    {
      "cell_type": "markdown",
      "metadata": {
        "id": "MxTCGpMwZP9k"
      },
      "source": [
        "Drop id, F10, F11, F8, F9, Credit columns"
      ]
    },
    {
      "cell_type": "code",
      "metadata": {
        "id": "gAmy3Z07zHuu"
      },
      "source": [
        "Train_data = Train_df.drop(['id'], axis = 1)\n",
        "Train_data = Train_data.drop(['F10'], axis = 1)\n",
        "Train_data = Train_data.drop(['F11'], axis = 1)\n",
        "Train_data = Train_data.drop(['F8'], axis = 1)\n",
        "Train_data = Train_data.drop(['F9'], axis = 1)\n",
        "Train_data = Train_data.drop(['credit'], axis = 1)"
      ],
      "execution_count": 56,
      "outputs": []
    },
    {
      "cell_type": "code",
      "metadata": {
        "colab": {
          "base_uri": "https://localhost:8080/"
        },
        "id": "RARScq7hP-xJ",
        "outputId": "866ecf57-05e4-4e55-a50d-6c8696bc432e"
      },
      "source": [
        "print(Train_data.corr())"
      ],
      "execution_count": 57,
      "outputs": [
        {
          "output_type": "stream",
          "name": "stdout",
          "text": [
            "             F1        F2        F3  ...     F10_4     F11_0     F11_1\n",
            "F1     1.000000  0.148123 -0.094153  ...  0.051353 -0.012280  0.012280\n",
            "F2     0.148123  1.000000 -0.248974  ...  0.049345 -0.229309  0.229309\n",
            "F3    -0.094153 -0.248974  1.000000  ... -0.131913  0.582454 -0.582454\n",
            "F4     0.109697  0.080383 -0.075607  ...  0.007897 -0.080296  0.080296\n",
            "F5     0.122630  0.078409 -0.057919  ...  0.014429 -0.048480  0.048480\n",
            "F6     0.079923  0.054256 -0.061062  ...  0.021044 -0.045567  0.045567\n",
            "F7    -0.069304 -0.190519  0.185451  ... -0.080376  0.129314 -0.129314\n",
            "F10_0 -0.029345 -0.003096  0.025190  ... -0.237763  0.010820 -0.010820\n",
            "F10_1  0.062091 -0.004564  0.011226  ... -0.439572  0.000856 -0.000856\n",
            "F10_2 -0.075272 -0.053153  0.138081  ... -0.788747  0.115604 -0.115604\n",
            "F10_3 -0.044133 -0.007188  0.015998  ... -0.221809  0.013906 -0.013906\n",
            "F10_4  0.051353  0.049345 -0.131913  ...  1.000000 -0.103486  0.103486\n",
            "F11_0 -0.012280 -0.229309  0.582454  ... -0.103486  1.000000 -1.000000\n",
            "F11_1  0.012280  0.229309 -0.582454  ...  0.103486 -1.000000  1.000000\n",
            "\n",
            "[14 rows x 14 columns]\n"
          ]
        }
      ]
    },
    {
      "cell_type": "code",
      "metadata": {
        "id": "dqX6Jpc3Vj62"
      },
      "source": [
        "Train_credit = Train_df['credit']"
      ],
      "execution_count": 58,
      "outputs": []
    },
    {
      "cell_type": "code",
      "metadata": {
        "colab": {
          "base_uri": "https://localhost:8080/"
        },
        "id": "h05P7I8g1ku3",
        "outputId": "0935868c-3d85-4e3b-adc2-f4049925ffcb"
      },
      "source": [
        "Train_df.info()"
      ],
      "execution_count": 8,
      "outputs": [
        {
          "output_type": "stream",
          "name": "stdout",
          "text": [
            "<class 'pandas.core.frame.DataFrame'>\n",
            "RangeIndex: 32561 entries, 0 to 32560\n",
            "Data columns (total 13 columns):\n",
            " #   Column  Non-Null Count  Dtype \n",
            "---  ------  --------------  ----- \n",
            " 0   id      32561 non-null  int64 \n",
            " 1   F1      32561 non-null  int64 \n",
            " 2   F2      32561 non-null  int64 \n",
            " 3   F3      32561 non-null  int64 \n",
            " 4   F4      32561 non-null  int64 \n",
            " 5   F5      32561 non-null  int64 \n",
            " 6   F6      32561 non-null  int64 \n",
            " 7   F7      32561 non-null  int64 \n",
            " 8   F8      32561 non-null  int64 \n",
            " 9   F9      32561 non-null  int64 \n",
            " 10  F10     32561 non-null  object\n",
            " 11  F11     32561 non-null  object\n",
            " 12  credit  32561 non-null  int64 \n",
            "dtypes: int64(11), object(2)\n",
            "memory usage: 3.2+ MB\n"
          ]
        }
      ]
    },
    {
      "cell_type": "code",
      "metadata": {
        "colab": {
          "base_uri": "https://localhost:8080/",
          "height": 317
        },
        "id": "vgMa_cme1tIs",
        "outputId": "a03a4b6f-c337-4f6d-8951-70fa6483955c"
      },
      "source": [
        "Train_df.describe()"
      ],
      "execution_count": 9,
      "outputs": [
        {
          "output_type": "execute_result",
          "data": {
            "text/html": [
              "<div>\n",
              "<style scoped>\n",
              "    .dataframe tbody tr th:only-of-type {\n",
              "        vertical-align: middle;\n",
              "    }\n",
              "\n",
              "    .dataframe tbody tr th {\n",
              "        vertical-align: top;\n",
              "    }\n",
              "\n",
              "    .dataframe thead th {\n",
              "        text-align: right;\n",
              "    }\n",
              "</style>\n",
              "<table border=\"1\" class=\"dataframe\">\n",
              "  <thead>\n",
              "    <tr style=\"text-align: right;\">\n",
              "      <th></th>\n",
              "      <th>id</th>\n",
              "      <th>F1</th>\n",
              "      <th>F2</th>\n",
              "      <th>F3</th>\n",
              "      <th>F4</th>\n",
              "      <th>F5</th>\n",
              "      <th>F6</th>\n",
              "      <th>F7</th>\n",
              "      <th>F8</th>\n",
              "      <th>F9</th>\n",
              "      <th>credit</th>\n",
              "    </tr>\n",
              "  </thead>\n",
              "  <tbody>\n",
              "    <tr>\n",
              "      <th>count</th>\n",
              "      <td>32561.000000</td>\n",
              "      <td>32561.000000</td>\n",
              "      <td>32561.000000</td>\n",
              "      <td>32561.000000</td>\n",
              "      <td>32561.000000</td>\n",
              "      <td>32561.000000</td>\n",
              "      <td>32561.000000</td>\n",
              "      <td>32561.000000</td>\n",
              "      <td>32561.000000</td>\n",
              "      <td>32561.000000</td>\n",
              "      <td>32561.000000</td>\n",
              "    </tr>\n",
              "    <tr>\n",
              "      <th>mean</th>\n",
              "      <td>16280.000000</td>\n",
              "      <td>10.080679</td>\n",
              "      <td>40.437456</td>\n",
              "      <td>1.446362</td>\n",
              "      <td>6.572740</td>\n",
              "      <td>1077.648844</td>\n",
              "      <td>87.303830</td>\n",
              "      <td>2.611836</td>\n",
              "      <td>3.868892</td>\n",
              "      <td>10.298210</td>\n",
              "      <td>0.240810</td>\n",
              "    </tr>\n",
              "    <tr>\n",
              "      <th>std</th>\n",
              "      <td>9399.695394</td>\n",
              "      <td>2.572720</td>\n",
              "      <td>12.347429</td>\n",
              "      <td>1.606771</td>\n",
              "      <td>4.228857</td>\n",
              "      <td>7385.292085</td>\n",
              "      <td>402.960219</td>\n",
              "      <td>1.506222</td>\n",
              "      <td>1.455960</td>\n",
              "      <td>3.870264</td>\n",
              "      <td>0.427581</td>\n",
              "    </tr>\n",
              "    <tr>\n",
              "      <th>min</th>\n",
              "      <td>0.000000</td>\n",
              "      <td>1.000000</td>\n",
              "      <td>1.000000</td>\n",
              "      <td>0.000000</td>\n",
              "      <td>0.000000</td>\n",
              "      <td>0.000000</td>\n",
              "      <td>0.000000</td>\n",
              "      <td>0.000000</td>\n",
              "      <td>0.000000</td>\n",
              "      <td>0.000000</td>\n",
              "      <td>0.000000</td>\n",
              "    </tr>\n",
              "    <tr>\n",
              "      <th>25%</th>\n",
              "      <td>8140.000000</td>\n",
              "      <td>9.000000</td>\n",
              "      <td>40.000000</td>\n",
              "      <td>0.000000</td>\n",
              "      <td>3.000000</td>\n",
              "      <td>0.000000</td>\n",
              "      <td>0.000000</td>\n",
              "      <td>2.000000</td>\n",
              "      <td>4.000000</td>\n",
              "      <td>9.000000</td>\n",
              "      <td>0.000000</td>\n",
              "    </tr>\n",
              "    <tr>\n",
              "      <th>50%</th>\n",
              "      <td>16280.000000</td>\n",
              "      <td>10.000000</td>\n",
              "      <td>40.000000</td>\n",
              "      <td>1.000000</td>\n",
              "      <td>7.000000</td>\n",
              "      <td>0.000000</td>\n",
              "      <td>0.000000</td>\n",
              "      <td>2.000000</td>\n",
              "      <td>4.000000</td>\n",
              "      <td>11.000000</td>\n",
              "      <td>0.000000</td>\n",
              "    </tr>\n",
              "    <tr>\n",
              "      <th>75%</th>\n",
              "      <td>24420.000000</td>\n",
              "      <td>12.000000</td>\n",
              "      <td>45.000000</td>\n",
              "      <td>3.000000</td>\n",
              "      <td>10.000000</td>\n",
              "      <td>0.000000</td>\n",
              "      <td>0.000000</td>\n",
              "      <td>4.000000</td>\n",
              "      <td>4.000000</td>\n",
              "      <td>12.000000</td>\n",
              "      <td>0.000000</td>\n",
              "    </tr>\n",
              "    <tr>\n",
              "      <th>max</th>\n",
              "      <td>32560.000000</td>\n",
              "      <td>16.000000</td>\n",
              "      <td>99.000000</td>\n",
              "      <td>5.000000</td>\n",
              "      <td>14.000000</td>\n",
              "      <td>99999.000000</td>\n",
              "      <td>4356.000000</td>\n",
              "      <td>6.000000</td>\n",
              "      <td>8.000000</td>\n",
              "      <td>15.000000</td>\n",
              "      <td>1.000000</td>\n",
              "    </tr>\n",
              "  </tbody>\n",
              "</table>\n",
              "</div>"
            ],
            "text/plain": [
              "                 id            F1  ...            F9        credit\n",
              "count  32561.000000  32561.000000  ...  32561.000000  32561.000000\n",
              "mean   16280.000000     10.080679  ...     10.298210      0.240810\n",
              "std     9399.695394      2.572720  ...      3.870264      0.427581\n",
              "min        0.000000      1.000000  ...      0.000000      0.000000\n",
              "25%     8140.000000      9.000000  ...      9.000000      0.000000\n",
              "50%    16280.000000     10.000000  ...     11.000000      0.000000\n",
              "75%    24420.000000     12.000000  ...     12.000000      0.000000\n",
              "max    32560.000000     16.000000  ...     15.000000      1.000000\n",
              "\n",
              "[8 rows x 11 columns]"
            ]
          },
          "metadata": {},
          "execution_count": 9
        }
      ]
    },
    {
      "cell_type": "markdown",
      "metadata": {
        "id": "7TZkh68gOf9k"
      },
      "source": [
        "Label Encoder"
      ]
    },
    {
      "cell_type": "code",
      "metadata": {
        "id": "Jlup_Nm4mEtW"
      },
      "source": [
        "label = LabelEncoder()\n",
        "Train_data['F10'] = label.fit_transform(Train_data['F10'].astype('str'))\n",
        "Train_data['F11'] = label.fit_transform(Train_data['F11'].astype('str'))"
      ],
      "execution_count": 11,
      "outputs": []
    },
    {
      "cell_type": "code",
      "metadata": {
        "colab": {
          "base_uri": "https://localhost:8080/",
          "height": 419
        },
        "id": "2vwKg0SN2tVI",
        "outputId": "7832529e-a6b7-4844-fc73-2c2c3513fc7a"
      },
      "source": [
        "Train_data"
      ],
      "execution_count": 21,
      "outputs": [
        {
          "output_type": "execute_result",
          "data": {
            "text/html": [
              "<div>\n",
              "<style scoped>\n",
              "    .dataframe tbody tr th:only-of-type {\n",
              "        vertical-align: middle;\n",
              "    }\n",
              "\n",
              "    .dataframe tbody tr th {\n",
              "        vertical-align: top;\n",
              "    }\n",
              "\n",
              "    .dataframe thead th {\n",
              "        text-align: right;\n",
              "    }\n",
              "</style>\n",
              "<table border=\"1\" class=\"dataframe\">\n",
              "  <thead>\n",
              "    <tr style=\"text-align: right;\">\n",
              "      <th></th>\n",
              "      <th>F1</th>\n",
              "      <th>F2</th>\n",
              "      <th>F3</th>\n",
              "      <th>F4</th>\n",
              "      <th>F5</th>\n",
              "      <th>F6</th>\n",
              "      <th>F7</th>\n",
              "      <th>F8</th>\n",
              "      <th>F9</th>\n",
              "      <th>F10_0</th>\n",
              "      <th>F10_1</th>\n",
              "      <th>F10_2</th>\n",
              "      <th>F10_3</th>\n",
              "      <th>F10_4</th>\n",
              "      <th>F11_0</th>\n",
              "      <th>F11_1</th>\n",
              "    </tr>\n",
              "  </thead>\n",
              "  <tbody>\n",
              "    <tr>\n",
              "      <th>0</th>\n",
              "      <td>13</td>\n",
              "      <td>40</td>\n",
              "      <td>1</td>\n",
              "      <td>1</td>\n",
              "      <td>2174</td>\n",
              "      <td>0</td>\n",
              "      <td>4</td>\n",
              "      <td>7</td>\n",
              "      <td>9</td>\n",
              "      <td>0.0</td>\n",
              "      <td>0.0</td>\n",
              "      <td>0.0</td>\n",
              "      <td>0.0</td>\n",
              "      <td>1.0</td>\n",
              "      <td>0.0</td>\n",
              "      <td>1.0</td>\n",
              "    </tr>\n",
              "    <tr>\n",
              "      <th>1</th>\n",
              "      <td>13</td>\n",
              "      <td>13</td>\n",
              "      <td>0</td>\n",
              "      <td>4</td>\n",
              "      <td>0</td>\n",
              "      <td>0</td>\n",
              "      <td>2</td>\n",
              "      <td>6</td>\n",
              "      <td>9</td>\n",
              "      <td>0.0</td>\n",
              "      <td>0.0</td>\n",
              "      <td>0.0</td>\n",
              "      <td>0.0</td>\n",
              "      <td>1.0</td>\n",
              "      <td>0.0</td>\n",
              "      <td>1.0</td>\n",
              "    </tr>\n",
              "    <tr>\n",
              "      <th>2</th>\n",
              "      <td>9</td>\n",
              "      <td>40</td>\n",
              "      <td>1</td>\n",
              "      <td>6</td>\n",
              "      <td>0</td>\n",
              "      <td>0</td>\n",
              "      <td>0</td>\n",
              "      <td>4</td>\n",
              "      <td>11</td>\n",
              "      <td>0.0</td>\n",
              "      <td>0.0</td>\n",
              "      <td>0.0</td>\n",
              "      <td>0.0</td>\n",
              "      <td>1.0</td>\n",
              "      <td>0.0</td>\n",
              "      <td>1.0</td>\n",
              "    </tr>\n",
              "    <tr>\n",
              "      <th>3</th>\n",
              "      <td>7</td>\n",
              "      <td>40</td>\n",
              "      <td>0</td>\n",
              "      <td>6</td>\n",
              "      <td>0</td>\n",
              "      <td>0</td>\n",
              "      <td>2</td>\n",
              "      <td>4</td>\n",
              "      <td>1</td>\n",
              "      <td>0.0</td>\n",
              "      <td>0.0</td>\n",
              "      <td>1.0</td>\n",
              "      <td>0.0</td>\n",
              "      <td>0.0</td>\n",
              "      <td>0.0</td>\n",
              "      <td>1.0</td>\n",
              "    </tr>\n",
              "    <tr>\n",
              "      <th>4</th>\n",
              "      <td>13</td>\n",
              "      <td>40</td>\n",
              "      <td>5</td>\n",
              "      <td>10</td>\n",
              "      <td>0</td>\n",
              "      <td>0</td>\n",
              "      <td>2</td>\n",
              "      <td>4</td>\n",
              "      <td>9</td>\n",
              "      <td>0.0</td>\n",
              "      <td>0.0</td>\n",
              "      <td>1.0</td>\n",
              "      <td>0.0</td>\n",
              "      <td>0.0</td>\n",
              "      <td>1.0</td>\n",
              "      <td>0.0</td>\n",
              "    </tr>\n",
              "    <tr>\n",
              "      <th>...</th>\n",
              "      <td>...</td>\n",
              "      <td>...</td>\n",
              "      <td>...</td>\n",
              "      <td>...</td>\n",
              "      <td>...</td>\n",
              "      <td>...</td>\n",
              "      <td>...</td>\n",
              "      <td>...</td>\n",
              "      <td>...</td>\n",
              "      <td>...</td>\n",
              "      <td>...</td>\n",
              "      <td>...</td>\n",
              "      <td>...</td>\n",
              "      <td>...</td>\n",
              "      <td>...</td>\n",
              "      <td>...</td>\n",
              "    </tr>\n",
              "    <tr>\n",
              "      <th>32556</th>\n",
              "      <td>12</td>\n",
              "      <td>38</td>\n",
              "      <td>5</td>\n",
              "      <td>13</td>\n",
              "      <td>0</td>\n",
              "      <td>0</td>\n",
              "      <td>2</td>\n",
              "      <td>4</td>\n",
              "      <td>7</td>\n",
              "      <td>0.0</td>\n",
              "      <td>0.0</td>\n",
              "      <td>0.0</td>\n",
              "      <td>0.0</td>\n",
              "      <td>1.0</td>\n",
              "      <td>1.0</td>\n",
              "      <td>0.0</td>\n",
              "    </tr>\n",
              "    <tr>\n",
              "      <th>32557</th>\n",
              "      <td>9</td>\n",
              "      <td>40</td>\n",
              "      <td>0</td>\n",
              "      <td>7</td>\n",
              "      <td>0</td>\n",
              "      <td>0</td>\n",
              "      <td>2</td>\n",
              "      <td>4</td>\n",
              "      <td>11</td>\n",
              "      <td>0.0</td>\n",
              "      <td>0.0</td>\n",
              "      <td>0.0</td>\n",
              "      <td>0.0</td>\n",
              "      <td>1.0</td>\n",
              "      <td>0.0</td>\n",
              "      <td>1.0</td>\n",
              "    </tr>\n",
              "    <tr>\n",
              "      <th>32558</th>\n",
              "      <td>9</td>\n",
              "      <td>40</td>\n",
              "      <td>4</td>\n",
              "      <td>1</td>\n",
              "      <td>0</td>\n",
              "      <td>0</td>\n",
              "      <td>6</td>\n",
              "      <td>4</td>\n",
              "      <td>11</td>\n",
              "      <td>0.0</td>\n",
              "      <td>0.0</td>\n",
              "      <td>0.0</td>\n",
              "      <td>0.0</td>\n",
              "      <td>1.0</td>\n",
              "      <td>1.0</td>\n",
              "      <td>0.0</td>\n",
              "    </tr>\n",
              "    <tr>\n",
              "      <th>32559</th>\n",
              "      <td>9</td>\n",
              "      <td>20</td>\n",
              "      <td>3</td>\n",
              "      <td>1</td>\n",
              "      <td>0</td>\n",
              "      <td>0</td>\n",
              "      <td>4</td>\n",
              "      <td>4</td>\n",
              "      <td>11</td>\n",
              "      <td>0.0</td>\n",
              "      <td>0.0</td>\n",
              "      <td>0.0</td>\n",
              "      <td>0.0</td>\n",
              "      <td>1.0</td>\n",
              "      <td>0.0</td>\n",
              "      <td>1.0</td>\n",
              "    </tr>\n",
              "    <tr>\n",
              "      <th>32560</th>\n",
              "      <td>9</td>\n",
              "      <td>40</td>\n",
              "      <td>5</td>\n",
              "      <td>4</td>\n",
              "      <td>15024</td>\n",
              "      <td>0</td>\n",
              "      <td>2</td>\n",
              "      <td>5</td>\n",
              "      <td>11</td>\n",
              "      <td>0.0</td>\n",
              "      <td>0.0</td>\n",
              "      <td>0.0</td>\n",
              "      <td>0.0</td>\n",
              "      <td>1.0</td>\n",
              "      <td>1.0</td>\n",
              "      <td>0.0</td>\n",
              "    </tr>\n",
              "  </tbody>\n",
              "</table>\n",
              "<p>32561 rows × 16 columns</p>\n",
              "</div>"
            ],
            "text/plain": [
              "       F1  F2  F3  F4     F5  F6  ...  F10_1  F10_2  F10_3  F10_4  F11_0  F11_1\n",
              "0      13  40   1   1   2174   0  ...    0.0    0.0    0.0    1.0    0.0    1.0\n",
              "1      13  13   0   4      0   0  ...    0.0    0.0    0.0    1.0    0.0    1.0\n",
              "2       9  40   1   6      0   0  ...    0.0    0.0    0.0    1.0    0.0    1.0\n",
              "3       7  40   0   6      0   0  ...    0.0    1.0    0.0    0.0    0.0    1.0\n",
              "4      13  40   5  10      0   0  ...    0.0    1.0    0.0    0.0    1.0    0.0\n",
              "...    ..  ..  ..  ..    ...  ..  ...    ...    ...    ...    ...    ...    ...\n",
              "32556  12  38   5  13      0   0  ...    0.0    0.0    0.0    1.0    1.0    0.0\n",
              "32557   9  40   0   7      0   0  ...    0.0    0.0    0.0    1.0    0.0    1.0\n",
              "32558   9  40   4   1      0   0  ...    0.0    0.0    0.0    1.0    1.0    0.0\n",
              "32559   9  20   3   1      0   0  ...    0.0    0.0    0.0    1.0    0.0    1.0\n",
              "32560   9  40   5   4  15024   0  ...    0.0    0.0    0.0    1.0    1.0    0.0\n",
              "\n",
              "[32561 rows x 16 columns]"
            ]
          },
          "metadata": {},
          "execution_count": 21
        }
      ]
    },
    {
      "cell_type": "code",
      "metadata": {
        "colab": {
          "base_uri": "https://localhost:8080/"
        },
        "id": "W-JoiVSZ9H-9",
        "outputId": "b2516e3c-6f10-4960-92d2-21a9fc9d80a1"
      },
      "source": [
        "print(Train_data.corr())"
      ],
      "execution_count": 13,
      "outputs": [
        {
          "output_type": "stream",
          "name": "stdout",
          "text": [
            "              F1        F2        F3  ...     F10_2     F10_3     F10_4\n",
            "F1      1.000000  0.148123 -0.094153  ... -0.075272 -0.044133  0.051353\n",
            "F2      0.148123  1.000000 -0.248974  ... -0.053153 -0.007188  0.049345\n",
            "F3     -0.094153 -0.248974  1.000000  ...  0.138081  0.015998 -0.131913\n",
            "F4      0.109697  0.080383 -0.075607  ... -0.011053  0.001582  0.007897\n",
            "F5      0.122630  0.078409 -0.057919  ... -0.020631 -0.001774  0.014429\n",
            "F6      0.079923  0.054256 -0.061062  ... -0.021762 -0.005964  0.021044\n",
            "F7     -0.069304 -0.190519  0.185451  ...  0.081600  0.016652 -0.080376\n",
            "F8      0.052085  0.138962 -0.090461  ... -0.059979 -0.014505  0.057208\n",
            "F9      0.359153  0.055510 -0.010876  ... -0.021464 -0.028896  0.021704\n",
            "F11     0.012280  0.229309 -0.582454  ... -0.115604 -0.013906  0.103486\n",
            "credit  0.335154  0.229689 -0.250918  ... -0.089089 -0.031830  0.085224\n",
            "F10_0  -0.029345 -0.003096  0.025190  ... -0.031991 -0.008996 -0.237763\n",
            "F10_1   0.062091 -0.004564  0.011226  ... -0.059144 -0.016632 -0.439572\n",
            "F10_2  -0.075272 -0.053153  0.138081  ...  1.000000 -0.029844 -0.788747\n",
            "F10_3  -0.044133 -0.007188  0.015998  ... -0.029844  1.000000 -0.221809\n",
            "F10_4   0.051353  0.049345 -0.131913  ... -0.788747 -0.221809  1.000000\n",
            "\n",
            "[16 rows x 16 columns]\n"
          ]
        }
      ]
    },
    {
      "cell_type": "markdown",
      "metadata": {
        "id": "_brn5dkDWDGr"
      },
      "source": [
        "Split Training data for testing"
      ]
    },
    {
      "cell_type": "code",
      "metadata": {
        "id": "ZszJITKBV6pj"
      },
      "source": [
        "from sklearn.model_selection import train_test_split\n",
        "X_train, X_test, y_train, y_test = train_test_split(Train_data, Train_credit, random_state= 30, test_size=0.3)"
      ],
      "execution_count": 60,
      "outputs": []
    },
    {
      "cell_type": "markdown",
      "metadata": {
        "id": "ksTSEV9ifEBS"
      },
      "source": [
        "Over Sampling"
      ]
    },
    {
      "cell_type": "code",
      "metadata": {
        "colab": {
          "base_uri": "https://localhost:8080/"
        },
        "id": "ZIqAROv7qGsN",
        "outputId": "6ad01f20-07b4-423f-fce3-1f707cb21620"
      },
      "source": [
        "!pip install imbalanced-learn\n",
        "from imblearn.over_sampling import SMOTE\n",
        "sm = SMOTE(random_state=42)\n",
        "X_res, y_res = sm.fit_resample(X_train, y_train)"
      ],
      "execution_count": 72,
      "outputs": [
        {
          "output_type": "stream",
          "name": "stdout",
          "text": [
            "Requirement already satisfied: imbalanced-learn in /usr/local/lib/python3.7/dist-packages (0.4.3)\n",
            "Requirement already satisfied: scipy>=0.13.3 in /usr/local/lib/python3.7/dist-packages (from imbalanced-learn) (1.4.1)\n",
            "Requirement already satisfied: scikit-learn>=0.20 in /usr/local/lib/python3.7/dist-packages (from imbalanced-learn) (0.22.2.post1)\n",
            "Requirement already satisfied: numpy>=1.8.2 in /usr/local/lib/python3.7/dist-packages (from imbalanced-learn) (1.19.5)\n",
            "Requirement already satisfied: joblib>=0.11 in /usr/local/lib/python3.7/dist-packages (from scikit-learn>=0.20->imbalanced-learn) (1.0.1)\n"
          ]
        },
        {
          "output_type": "stream",
          "name": "stderr",
          "text": [
            "/usr/local/lib/python3.7/dist-packages/sklearn/externals/six.py:31: FutureWarning: The module is deprecated in version 0.21 and will be removed in version 0.23 since we've dropped support for Python 2.7. Please rely on the official version of six (https://pypi.org/project/six/).\n",
            "  \"(https://pypi.org/project/six/).\", FutureWarning)\n",
            "/usr/local/lib/python3.7/dist-packages/sklearn/utils/deprecation.py:144: FutureWarning: The sklearn.neighbors.base module is  deprecated in version 0.22 and will be removed in version 0.24. The corresponding classes / functions should instead be imported from sklearn.neighbors. Anything that cannot be imported from sklearn.neighbors is now part of the private API.\n",
            "  warnings.warn(message, FutureWarning)\n",
            "/usr/local/lib/python3.7/dist-packages/sklearn/utils/deprecation.py:87: FutureWarning: Function safe_indexing is deprecated; safe_indexing is deprecated in version 0.22 and will be removed in version 0.24.\n",
            "  warnings.warn(msg, category=FutureWarning)\n"
          ]
        }
      ]
    },
    {
      "cell_type": "code",
      "metadata": {
        "colab": {
          "base_uri": "https://localhost:8080/"
        },
        "id": "wpoaD16uMsn_",
        "outputId": "1b04921b-bd39-4b3a-f37f-3cad89915390"
      },
      "source": [
        "from imblearn.over_sampling import ADASYN\n",
        "oversample = ADASYN()\n",
        "X_res1, y_res1 = oversample.fit_resample(X_train, y_train)"
      ],
      "execution_count": 74,
      "outputs": [
        {
          "output_type": "stream",
          "name": "stderr",
          "text": [
            "/usr/local/lib/python3.7/dist-packages/sklearn/utils/deprecation.py:87: FutureWarning: Function safe_indexing is deprecated; safe_indexing is deprecated in version 0.22 and will be removed in version 0.24.\n",
            "  warnings.warn(msg, category=FutureWarning)\n"
          ]
        }
      ]
    },
    {
      "cell_type": "markdown",
      "metadata": {
        "id": "11HAiddOOleO"
      },
      "source": [
        "Model Application"
      ]
    },
    {
      "cell_type": "markdown",
      "metadata": {
        "id": "F5-Z3dO50Rrb"
      },
      "source": [
        "Decision Trees - Without Oversampling"
      ]
    },
    {
      "cell_type": "code",
      "metadata": {
        "colab": {
          "base_uri": "https://localhost:8080/"
        },
        "id": "pnTrOCqkhqYX",
        "outputId": "2b464b5a-ac4a-499e-df42-e4ae3a38c36b"
      },
      "source": [
        "from sklearn.tree import DecisionTreeClassifier\n",
        "from sklearn.metrics import accuracy_score\n",
        "from sklearn.metrics import f1_score\n",
        "\n",
        "dt_model = DecisionTreeClassifier(random_state=30)\n",
        "dt_model.fit(X_train, y_train)\n",
        "y_pred = dt_model.predict(X_test)\n",
        "print(\"F1-Score:\",f1_score(y_test, y_pred))"
      ],
      "execution_count": 61,
      "outputs": [
        {
          "output_type": "stream",
          "name": "stdout",
          "text": [
            "F1-Score: 0.645910780669145\n"
          ]
        }
      ]
    },
    {
      "cell_type": "markdown",
      "metadata": {
        "id": "8pjbpXOUZr3k"
      },
      "source": [
        "Decision Trees - With Oversampling"
      ]
    },
    {
      "cell_type": "code",
      "metadata": {
        "colab": {
          "base_uri": "https://localhost:8080/"
        },
        "id": "gEe1sa2B5_T3",
        "outputId": "43ab6847-65d5-441b-8ed3-06a555352d85"
      },
      "source": [
        "from sklearn import tree\n",
        "clf = tree.DecisionTreeClassifier(max_depth=16)\n",
        "\n",
        "clf.fit(X_res, y_res)\n",
        "y_pred=clf.predict(X_test)\n",
        "\n",
        "print(\"F1-Score:\",f1_score(y_test, y_pred))\n",
        "\n",
        "print(\"Accuracy:\",accuracy_score(y_test, y_pred))"
      ],
      "execution_count": 73,
      "outputs": [
        {
          "output_type": "stream",
          "name": "stdout",
          "text": [
            "F1-Score: 0.6728937728937728\n",
            "Accuracy: 0.8171767837035521\n"
          ]
        }
      ]
    },
    {
      "cell_type": "markdown",
      "metadata": {
        "id": "CEzg8oS6b50R"
      },
      "source": [
        "Stochastic Gradient Decent"
      ]
    },
    {
      "cell_type": "code",
      "metadata": {
        "colab": {
          "base_uri": "https://localhost:8080/"
        },
        "id": "tqnBty2t5dC5",
        "outputId": "0dc99618-9292-4bc8-e339-8fcf79bfb9e8"
      },
      "source": [
        "from sklearn.linear_model import SGDClassifier\n",
        "clf = SGDClassifier(loss=\"hinge\", penalty=\"l2\", max_iter=70)\n",
        "clf.fit(X_train,y_train)\n",
        "y_pred=clf.predict(X_test)\n",
        "\n",
        "\n",
        "from sklearn.metrics import f1_score\n",
        "print(\"F1-Score:\",f1_score(y_test, y_pred))\n",
        "\n",
        "from sklearn.metrics import accuracy_score\n",
        "print(\"Accuracy:\",accuracy_score(y_test, y_pred))"
      ],
      "execution_count": 79,
      "outputs": [
        {
          "output_type": "stream",
          "name": "stdout",
          "text": [
            "F1-Score: 0.5542204866326225\n",
            "Accuracy: 0.6961817995700685\n"
          ]
        }
      ]
    },
    {
      "cell_type": "markdown",
      "metadata": {
        "id": "ih3HvJ2U0WZm"
      },
      "source": [
        "Gradient Boost Classifier"
      ]
    },
    {
      "cell_type": "code",
      "metadata": {
        "colab": {
          "base_uri": "https://localhost:8080/"
        },
        "id": "dZ9fDQCMs7TU",
        "outputId": "0a05f7c0-1ec1-41f0-9b47-c80e1f70d2f9"
      },
      "source": [
        "from sklearn.datasets import make_hastie_10_2\n",
        "from sklearn.ensemble import GradientBoostingClassifier\n",
        "from sklearn.metrics import classification_report\n",
        "\n",
        " \n",
        "clf = GradientBoostingClassifier(n_estimators=300, learning_rate=1.0, max_depth=2, random_state=1)\n",
        "clf.fit(X_train,y_train)\n",
        "y_pred=clf.predict(X_test)\n",
        " \n",
        "from sklearn.metrics import f1_score\n",
        "print(\"F1-Score:\",f1_score(y_test, y_pred))\n",
        "\n",
        "from sklearn.metrics import accuracy_score\n",
        "print(\"Accuracy:\",accuracy_score(y_test, y_pred))\n",
        "print(classification_report(y_test,clf.predict(X_test)))\n",
        "\n"
      ],
      "execution_count": 63,
      "outputs": [
        {
          "output_type": "stream",
          "name": "stdout",
          "text": [
            "F1-Score: 0.6930976833054693\n",
            "Accuracy: 0.8684614597195209\n",
            "              precision    recall  f1-score   support\n",
            "\n",
            "           0       0.89      0.94      0.92      7464\n",
            "           1       0.77      0.63      0.69      2305\n",
            "\n",
            "    accuracy                           0.87      9769\n",
            "   macro avg       0.83      0.79      0.80      9769\n",
            "weighted avg       0.86      0.87      0.86      9769\n",
            "\n"
          ]
        }
      ]
    },
    {
      "cell_type": "markdown",
      "metadata": {
        "id": "alpXD4SB0rvU"
      },
      "source": [
        "Random Forest"
      ]
    },
    {
      "cell_type": "code",
      "metadata": {
        "colab": {
          "base_uri": "https://localhost:8080/"
        },
        "id": "zRntjh_Izzou",
        "outputId": "f13030b3-2d56-4634-e2da-86abbb4d92bb"
      },
      "source": [
        "from sklearn import metrics\n",
        "from sklearn.metrics import f1_score\n",
        "from sklearn.ensemble import RandomForestClassifier\n",
        "rd = RandomForestClassifier(n_estimators=50, max_depth=50, random_state=0)\n",
        "clf = rd.fit(X_train, y_train)\n",
        "predicted= clf.predict(X_test)\n",
        "print(\"Random Forest Accuracy:\",metrics.accuracy_score(y_test, predicted))\n",
        "print(\"Random Forest F1 Score:\",metrics.f1_score(y_test, predicted, labels=None, pos_label=1, average='binary', sample_weight=None, zero_division='warn'))"
      ],
      "execution_count": 31,
      "outputs": [
        {
          "output_type": "stream",
          "name": "stdout",
          "text": [
            "Random Forest Accuracy: 0.8467601596888116\n",
            "Random Forest F1 Score: 0.6429763892201289\n"
          ]
        }
      ]
    },
    {
      "cell_type": "markdown",
      "metadata": {
        "id": "Lw8IR-L40w_M"
      },
      "source": [
        "KNN"
      ]
    },
    {
      "cell_type": "code",
      "metadata": {
        "colab": {
          "base_uri": "https://localhost:8080/"
        },
        "id": "003ksEyLqG22",
        "outputId": "dca61796-eb24-479f-febb-b7d78e800d3e"
      },
      "source": [
        "from sklearn import metrics\n",
        "from sklearn.neighbors import KNeighborsClassifier\n",
        "neigh = KNeighborsClassifier(n_neighbors=13)\n",
        "clf1 = neigh.fit(X_train, y_train)\n",
        "predicted1= clf1.predict(X_test)\n",
        "print(\"KNN Accuracy:\",metrics.accuracy_score(y_test, predicted1))\n",
        "print(\"F1-Score:\",f1_score(y_test, predicted1))"
      ],
      "execution_count": 48,
      "outputs": [
        {
          "output_type": "stream",
          "name": "stdout",
          "text": [
            "KNN Accuracy: 0.8566895280990889\n",
            "F1-Score: 0.66996699669967\n"
          ]
        }
      ]
    },
    {
      "cell_type": "markdown",
      "metadata": {
        "id": "R1s0W5yy0p-s"
      },
      "source": [
        "Logistic Regression"
      ]
    },
    {
      "cell_type": "code",
      "metadata": {
        "colab": {
          "base_uri": "https://localhost:8080/"
        },
        "id": "mdHKqCS10o8g",
        "outputId": "ea8f19df-ca61-40ea-b1b9-a4ec6ef4d8ac"
      },
      "source": [
        "from sklearn.linear_model import LogisticRegression\n",
        "\n",
        "clf = LogisticRegression(random_state=1)\n",
        "clf.fit(X_train, y_train)\n",
        "y_pred=clf.predict(X_test)\n",
        "\n",
        "from sklearn.metrics import f1_score\n",
        "print(\"F1-Score:\",f1_score(y_test, y_pred))\n",
        "\n",
        "from sklearn.metrics import accuracy_score\n",
        "print(\"Accuracy:\",accuracy_score(y_test, y_pred))"
      ],
      "execution_count": 75,
      "outputs": [
        {
          "output_type": "stream",
          "name": "stdout",
          "text": [
            "F1-Score: 0.45928430543815163\n",
            "Accuracy: 0.8035622888729655\n"
          ]
        },
        {
          "output_type": "stream",
          "name": "stderr",
          "text": [
            "/usr/local/lib/python3.7/dist-packages/sklearn/linear_model/_logistic.py:940: ConvergenceWarning: lbfgs failed to converge (status=1):\n",
            "STOP: TOTAL NO. of ITERATIONS REACHED LIMIT.\n",
            "\n",
            "Increase the number of iterations (max_iter) or scale the data as shown in:\n",
            "    https://scikit-learn.org/stable/modules/preprocessing.html\n",
            "Please also refer to the documentation for alternative solver options:\n",
            "    https://scikit-learn.org/stable/modules/linear_model.html#logistic-regression\n",
            "  extra_warning_msg=_LOGISTIC_SOLVER_CONVERGENCE_MSG)\n"
          ]
        }
      ]
    },
    {
      "cell_type": "markdown",
      "metadata": {
        "id": "ifGihxh_2acx"
      },
      "source": [
        "SVM"
      ]
    },
    {
      "cell_type": "code",
      "metadata": {
        "colab": {
          "base_uri": "https://localhost:8080/"
        },
        "id": "e-e1L2-i2cDc",
        "outputId": "b2b95fc9-2ea7-4a0a-b5da-75978740f2a0"
      },
      "source": [
        "from sklearn import svm\n",
        "from sklearn.svm import LinearSVC\n",
        "from sklearn.pipeline import make_pipeline\n",
        "from sklearn.preprocessing import StandardScaler\n",
        "\n",
        "clf = make_pipeline(StandardScaler(),LinearSVC(random_state=1, tol=1e-5))\n",
        "\n",
        "clf.fit(X_res, y_res)\n",
        "y_pred=clf.predict(X_test)\n",
        "\n",
        "\n",
        "from sklearn.metrics import f1_score\n",
        "print(\"F1-Score:\",f1_score(y_test, y_pred))\n",
        "\n",
        "from sklearn.metrics import accuracy_score\n",
        "print(\"Accuracy:\",accuracy_score(y_test, y_pred))"
      ],
      "execution_count": 76,
      "outputs": [
        {
          "output_type": "stream",
          "name": "stdout",
          "text": [
            "F1-Score: 0.5981500513874615\n",
            "Accuracy: 0.7598525949431877\n"
          ]
        },
        {
          "output_type": "stream",
          "name": "stderr",
          "text": [
            "/usr/local/lib/python3.7/dist-packages/sklearn/svm/_base.py:947: ConvergenceWarning: Liblinear failed to converge, increase the number of iterations.\n",
            "  \"the number of iterations.\", ConvergenceWarning)\n"
          ]
        }
      ]
    },
    {
      "cell_type": "markdown",
      "metadata": {
        "id": "jK6bsaYp22ef"
      },
      "source": [
        "Perceptron"
      ]
    },
    {
      "cell_type": "code",
      "metadata": {
        "colab": {
          "base_uri": "https://localhost:8080/"
        },
        "id": "clw9XDQn24TD",
        "outputId": "b81e33c1-a9ea-4b26-fc1e-62d6ae756045"
      },
      "source": [
        "from sklearn.datasets import load_digits\n",
        "from sklearn.linear_model import Perceptron\n",
        "from sklearn.feature_selection import RFE\n",
        "clf = Perceptron(tol=1e-0, random_state=0)\n",
        "\n",
        "clf.fit(X_train, y_train)\n",
        "selector=RFE(clf, 14)\n",
        "y_pred=clf.predict(X_test)\n",
        "\n",
        "\n",
        "from sklearn.metrics import f1_score\n",
        "print(\"F1-Score:\",f1_score(y_test, y_pred))\n",
        "\n",
        "from sklearn.metrics import accuracy_score\n",
        "print(\"Accuracy:\",accuracy_score(y_test, y_pred))"
      ],
      "execution_count": 77,
      "outputs": [
        {
          "output_type": "stream",
          "name": "stdout",
          "text": [
            "F1-Score: 0.4111787493082457\n",
            "Accuracy: 0.7821680827106152\n"
          ]
        }
      ]
    },
    {
      "cell_type": "markdown",
      "metadata": {
        "id": "hXeypnoS5HwW"
      },
      "source": [
        "Neural Network"
      ]
    },
    {
      "cell_type": "code",
      "metadata": {
        "colab": {
          "base_uri": "https://localhost:8080/"
        },
        "id": "1hjcE2bp5KnQ",
        "outputId": "f384703a-e61c-4e78-b28a-872a1f39785a"
      },
      "source": [
        "from sklearn.neural_network import MLPClassifier\n",
        "clf = MLPClassifier(solver='adam', alpha=1e-5, hidden_layer_sizes=(7,2), random_state=1)\n",
        "clf.fit(X_res1, y_res1)\n",
        "y_pred=clf.predict(X_test)\n",
        "\n",
        "\n",
        "from sklearn.metrics import f1_score\n",
        "print(\"F1-Score:\",f1_score(y_test, y_pred))\n",
        "\n",
        "from sklearn.metrics import accuracy_score\n",
        "print(\"Accuracy:\",accuracy_score(y_test, y_pred))"
      ],
      "execution_count": 78,
      "outputs": [
        {
          "output_type": "stream",
          "name": "stdout",
          "text": [
            "F1-Score: 0.6172518422193325\n",
            "Accuracy: 0.728836114238919\n"
          ]
        }
      ]
    },
    {
      "cell_type": "markdown",
      "metadata": {
        "id": "9cfSuun401e3"
      },
      "source": [
        "Naive Bayes - Gaussian"
      ]
    },
    {
      "cell_type": "code",
      "metadata": {
        "colab": {
          "base_uri": "https://localhost:8080/"
        },
        "id": "XiG0Hg8MqGy9",
        "outputId": "6ff70980-7d56-4ade-e230-43b70578be47"
      },
      "source": [
        "from sklearn.naive_bayes import GaussianNB\n",
        "gnb = GaussianNB()\n",
        "y_pred = gnb.fit(X_res, y_res).predict(X_test)\n",
        "print(\"Number of mislabeled points out of a total %d points : %d\"% (X_test.shape[0], (y_test != y_pred).sum()))\n",
        "print(\"F1-Score:\",f1_score(y_test, y_pred))"
      ],
      "execution_count": 81,
      "outputs": [
        {
          "output_type": "stream",
          "name": "stdout",
          "text": [
            "Number of mislabeled points out of a total 9769 points : 1719\n",
            "F1-Score: 0.5737664269774362\n"
          ]
        }
      ]
    },
    {
      "cell_type": "markdown",
      "metadata": {
        "id": "ErAwOCyVJR9w"
      },
      "source": [
        "XGBoost Classifier"
      ]
    },
    {
      "cell_type": "code",
      "metadata": {
        "colab": {
          "base_uri": "https://localhost:8080/"
        },
        "id": "tNQ7MjtrJQ28",
        "outputId": "714031a8-bb4e-4f66-9921-c7f13e4d0682"
      },
      "source": [
        "from imblearn.over_sampling import RandomOverSampler\n",
        "from xgboost import XGBClassifier\n",
        "\n",
        "xgclassifier = XGBClassifier()\n",
        "xgclassifier.fit(X_res, y_res)\n",
        "y_pred = xgclassifier.predict(X_test.values)\n",
        "\n",
        "print(\"F1-Score:\",f1_score(y_test, y_pred))"
      ],
      "execution_count": 83,
      "outputs": [
        {
          "output_type": "stream",
          "name": "stdout",
          "text": [
            "F1-Score: 0.6836337928596677\n"
          ]
        }
      ]
    },
    {
      "cell_type": "markdown",
      "metadata": {
        "id": "uZTR03tx0cFv"
      },
      "source": [
        "Test Data Preprocessing"
      ]
    },
    {
      "cell_type": "code",
      "metadata": {
        "colab": {
          "base_uri": "https://localhost:8080/",
          "height": 419
        },
        "id": "g3F9Tt3IWHi4",
        "outputId": "bc17358d-2334-441a-9c8d-c4c41675ed74"
      },
      "source": [
        "test_df = pd.read_csv(\"1631544228_0377958_credit_test.csv\")\n",
        "test_df\n",
        "#test_df['F10'] = label.fit_transform(test_df['F10'].astype('str'))\n",
        "#test_df['F11'] = label.fit_transform(test_df['F11'].astype('str'))"
      ],
      "execution_count": 65,
      "outputs": [
        {
          "output_type": "execute_result",
          "data": {
            "text/html": [
              "<div>\n",
              "<style scoped>\n",
              "    .dataframe tbody tr th:only-of-type {\n",
              "        vertical-align: middle;\n",
              "    }\n",
              "\n",
              "    .dataframe tbody tr th {\n",
              "        vertical-align: top;\n",
              "    }\n",
              "\n",
              "    .dataframe thead th {\n",
              "        text-align: right;\n",
              "    }\n",
              "</style>\n",
              "<table border=\"1\" class=\"dataframe\">\n",
              "  <thead>\n",
              "    <tr style=\"text-align: right;\">\n",
              "      <th></th>\n",
              "      <th>id</th>\n",
              "      <th>F1</th>\n",
              "      <th>F2</th>\n",
              "      <th>F3</th>\n",
              "      <th>F4</th>\n",
              "      <th>F5</th>\n",
              "      <th>F6</th>\n",
              "      <th>F7</th>\n",
              "      <th>F8</th>\n",
              "      <th>F9</th>\n",
              "      <th>F10</th>\n",
              "      <th>F11</th>\n",
              "    </tr>\n",
              "  </thead>\n",
              "  <tbody>\n",
              "    <tr>\n",
              "      <th>0</th>\n",
              "      <td>0</td>\n",
              "      <td>7</td>\n",
              "      <td>40</td>\n",
              "      <td>3</td>\n",
              "      <td>7</td>\n",
              "      <td>0</td>\n",
              "      <td>0</td>\n",
              "      <td>4</td>\n",
              "      <td>4</td>\n",
              "      <td>1</td>\n",
              "      <td>Black</td>\n",
              "      <td>Male</td>\n",
              "    </tr>\n",
              "    <tr>\n",
              "      <th>1</th>\n",
              "      <td>1</td>\n",
              "      <td>12</td>\n",
              "      <td>40</td>\n",
              "      <td>0</td>\n",
              "      <td>11</td>\n",
              "      <td>0</td>\n",
              "      <td>0</td>\n",
              "      <td>2</td>\n",
              "      <td>2</td>\n",
              "      <td>7</td>\n",
              "      <td>White</td>\n",
              "      <td>Male</td>\n",
              "    </tr>\n",
              "    <tr>\n",
              "      <th>2</th>\n",
              "      <td>2</td>\n",
              "      <td>10</td>\n",
              "      <td>40</td>\n",
              "      <td>0</td>\n",
              "      <td>7</td>\n",
              "      <td>7688</td>\n",
              "      <td>0</td>\n",
              "      <td>2</td>\n",
              "      <td>4</td>\n",
              "      <td>15</td>\n",
              "      <td>Black</td>\n",
              "      <td>Male</td>\n",
              "    </tr>\n",
              "    <tr>\n",
              "      <th>3</th>\n",
              "      <td>3</td>\n",
              "      <td>10</td>\n",
              "      <td>30</td>\n",
              "      <td>3</td>\n",
              "      <td>0</td>\n",
              "      <td>0</td>\n",
              "      <td>0</td>\n",
              "      <td>4</td>\n",
              "      <td>0</td>\n",
              "      <td>15</td>\n",
              "      <td>White</td>\n",
              "      <td>Female</td>\n",
              "    </tr>\n",
              "    <tr>\n",
              "      <th>4</th>\n",
              "      <td>4</td>\n",
              "      <td>6</td>\n",
              "      <td>30</td>\n",
              "      <td>1</td>\n",
              "      <td>8</td>\n",
              "      <td>0</td>\n",
              "      <td>0</td>\n",
              "      <td>4</td>\n",
              "      <td>4</td>\n",
              "      <td>0</td>\n",
              "      <td>White</td>\n",
              "      <td>Male</td>\n",
              "    </tr>\n",
              "    <tr>\n",
              "      <th>...</th>\n",
              "      <td>...</td>\n",
              "      <td>...</td>\n",
              "      <td>...</td>\n",
              "      <td>...</td>\n",
              "      <td>...</td>\n",
              "      <td>...</td>\n",
              "      <td>...</td>\n",
              "      <td>...</td>\n",
              "      <td>...</td>\n",
              "      <td>...</td>\n",
              "      <td>...</td>\n",
              "      <td>...</td>\n",
              "    </tr>\n",
              "    <tr>\n",
              "      <th>13300</th>\n",
              "      <td>13300</td>\n",
              "      <td>13</td>\n",
              "      <td>40</td>\n",
              "      <td>3</td>\n",
              "      <td>10</td>\n",
              "      <td>0</td>\n",
              "      <td>0</td>\n",
              "      <td>4</td>\n",
              "      <td>4</td>\n",
              "      <td>9</td>\n",
              "      <td>White</td>\n",
              "      <td>Male</td>\n",
              "    </tr>\n",
              "    <tr>\n",
              "      <th>13301</th>\n",
              "      <td>13301</td>\n",
              "      <td>13</td>\n",
              "      <td>36</td>\n",
              "      <td>1</td>\n",
              "      <td>10</td>\n",
              "      <td>0</td>\n",
              "      <td>0</td>\n",
              "      <td>0</td>\n",
              "      <td>4</td>\n",
              "      <td>9</td>\n",
              "      <td>White</td>\n",
              "      <td>Female</td>\n",
              "    </tr>\n",
              "    <tr>\n",
              "      <th>13302</th>\n",
              "      <td>13302</td>\n",
              "      <td>9</td>\n",
              "      <td>40</td>\n",
              "      <td>2</td>\n",
              "      <td>0</td>\n",
              "      <td>0</td>\n",
              "      <td>0</td>\n",
              "      <td>6</td>\n",
              "      <td>0</td>\n",
              "      <td>11</td>\n",
              "      <td>Black</td>\n",
              "      <td>Male</td>\n",
              "    </tr>\n",
              "    <tr>\n",
              "      <th>13303</th>\n",
              "      <td>13303</td>\n",
              "      <td>13</td>\n",
              "      <td>50</td>\n",
              "      <td>0</td>\n",
              "      <td>10</td>\n",
              "      <td>0</td>\n",
              "      <td>0</td>\n",
              "      <td>2</td>\n",
              "      <td>4</td>\n",
              "      <td>9</td>\n",
              "      <td>White</td>\n",
              "      <td>Male</td>\n",
              "    </tr>\n",
              "    <tr>\n",
              "      <th>13304</th>\n",
              "      <td>13304</td>\n",
              "      <td>13</td>\n",
              "      <td>40</td>\n",
              "      <td>3</td>\n",
              "      <td>1</td>\n",
              "      <td>5455</td>\n",
              "      <td>0</td>\n",
              "      <td>0</td>\n",
              "      <td>4</td>\n",
              "      <td>9</td>\n",
              "      <td>Asian-Pac-Islander</td>\n",
              "      <td>Male</td>\n",
              "    </tr>\n",
              "  </tbody>\n",
              "</table>\n",
              "<p>13305 rows × 12 columns</p>\n",
              "</div>"
            ],
            "text/plain": [
              "          id  F1  F2  F3  F4  ...  F7  F8  F9                  F10      F11\n",
              "0          0   7  40   3   7  ...   4   4   1                Black     Male\n",
              "1          1  12  40   0  11  ...   2   2   7                White     Male\n",
              "2          2  10  40   0   7  ...   2   4  15                Black     Male\n",
              "3          3  10  30   3   0  ...   4   0  15                White   Female\n",
              "4          4   6  30   1   8  ...   4   4   0                White     Male\n",
              "...      ...  ..  ..  ..  ..  ...  ..  ..  ..                  ...      ...\n",
              "13300  13300  13  40   3  10  ...   4   4   9                White     Male\n",
              "13301  13301  13  36   1  10  ...   0   4   9                White   Female\n",
              "13302  13302   9  40   2   0  ...   6   0  11                Black     Male\n",
              "13303  13303  13  50   0  10  ...   2   4   9                White     Male\n",
              "13304  13304  13  40   3   1  ...   0   4   9   Asian-Pac-Islander     Male\n",
              "\n",
              "[13305 rows x 12 columns]"
            ]
          },
          "metadata": {},
          "execution_count": 65
        }
      ]
    },
    {
      "cell_type": "markdown",
      "metadata": {
        "id": "93FjyU6v3VBw"
      },
      "source": [
        "One Hot Encoding on Test Data."
      ]
    },
    {
      "cell_type": "code",
      "metadata": {
        "id": "sMTnK3uxsKEr"
      },
      "source": [
        "from sklearn.preprocessing import OneHotEncoder\n",
        "# creating one hot encoder object \n",
        "onehotencoder = OneHotEncoder()\n",
        "#reshape the 1-D country array to 2-D as fit_transform expects 2-D and finally fit the object \n",
        "X = onehotencoder.fit_transform(test_df[\"F10\"].values.reshape(-1,1)).toarray()\n",
        "#To add this back into the original dataframe \n",
        "dfOneHot = pd.DataFrame(X, columns = [\"F10_\"+str(int(i)) for i in range(len(test_df[\"F10\"].unique()))]) \n",
        "test_df = pd.concat([test_df, dfOneHot], axis=1)"
      ],
      "execution_count": 66,
      "outputs": []
    },
    {
      "cell_type": "code",
      "metadata": {
        "id": "dQQCcHupTDuk"
      },
      "source": [
        "from sklearn.preprocessing import OneHotEncoder\n",
        "# creating one hot encoder object \n",
        "onehotencoder = OneHotEncoder()\n",
        "#reshape the 1-D country array to 2-D as fit_transform expects 2-D and finally fit the object \n",
        "X = onehotencoder.fit_transform(test_df[\"F11\"].values.reshape(-1,1)).toarray()\n",
        "#To add this back into the original dataframe \n",
        "dfOneHot = pd.DataFrame(X, columns = [\"F11_\"+str(int(i)) for i in range(len(test_df[\"F11\"].unique()))]) \n",
        "test_df = pd.concat([test_df, dfOneHot], axis=1)"
      ],
      "execution_count": 67,
      "outputs": []
    },
    {
      "cell_type": "markdown",
      "metadata": {
        "id": "7CAHw9kK3aIn"
      },
      "source": [
        "Feature Selection on Test data"
      ]
    },
    {
      "cell_type": "code",
      "metadata": {
        "id": "ECBG5qq7j5em"
      },
      "source": [
        "Test_data = test_df.drop(['id'], axis = 1)\n",
        "Test_data = Test_data.drop(['F10'], axis = 1)\n",
        "Test_data = Test_data.drop(['F11'], axis = 1)\n",
        "Test_data = Test_data.drop(['F8'], axis = 1)\n",
        "Test_data = Test_data.drop(['F9'], axis = 1)"
      ],
      "execution_count": 68,
      "outputs": []
    },
    {
      "cell_type": "code",
      "metadata": {
        "colab": {
          "base_uri": "https://localhost:8080/",
          "height": 419
        },
        "id": "ZjsNs-275zr2",
        "outputId": "6b3fec72-5a8e-4490-c2b2-88f2f30ff0ca"
      },
      "source": [
        "Test_data"
      ],
      "execution_count": 69,
      "outputs": [
        {
          "output_type": "execute_result",
          "data": {
            "text/html": [
              "<div>\n",
              "<style scoped>\n",
              "    .dataframe tbody tr th:only-of-type {\n",
              "        vertical-align: middle;\n",
              "    }\n",
              "\n",
              "    .dataframe tbody tr th {\n",
              "        vertical-align: top;\n",
              "    }\n",
              "\n",
              "    .dataframe thead th {\n",
              "        text-align: right;\n",
              "    }\n",
              "</style>\n",
              "<table border=\"1\" class=\"dataframe\">\n",
              "  <thead>\n",
              "    <tr style=\"text-align: right;\">\n",
              "      <th></th>\n",
              "      <th>F1</th>\n",
              "      <th>F2</th>\n",
              "      <th>F3</th>\n",
              "      <th>F4</th>\n",
              "      <th>F5</th>\n",
              "      <th>F6</th>\n",
              "      <th>F7</th>\n",
              "      <th>F10_0</th>\n",
              "      <th>F10_1</th>\n",
              "      <th>F10_2</th>\n",
              "      <th>F10_3</th>\n",
              "      <th>F10_4</th>\n",
              "      <th>F11_0</th>\n",
              "      <th>F11_1</th>\n",
              "    </tr>\n",
              "  </thead>\n",
              "  <tbody>\n",
              "    <tr>\n",
              "      <th>0</th>\n",
              "      <td>7</td>\n",
              "      <td>40</td>\n",
              "      <td>3</td>\n",
              "      <td>7</td>\n",
              "      <td>0</td>\n",
              "      <td>0</td>\n",
              "      <td>4</td>\n",
              "      <td>0.0</td>\n",
              "      <td>0.0</td>\n",
              "      <td>1.0</td>\n",
              "      <td>0.0</td>\n",
              "      <td>0.0</td>\n",
              "      <td>0.0</td>\n",
              "      <td>1.0</td>\n",
              "    </tr>\n",
              "    <tr>\n",
              "      <th>1</th>\n",
              "      <td>12</td>\n",
              "      <td>40</td>\n",
              "      <td>0</td>\n",
              "      <td>11</td>\n",
              "      <td>0</td>\n",
              "      <td>0</td>\n",
              "      <td>2</td>\n",
              "      <td>0.0</td>\n",
              "      <td>0.0</td>\n",
              "      <td>0.0</td>\n",
              "      <td>0.0</td>\n",
              "      <td>1.0</td>\n",
              "      <td>0.0</td>\n",
              "      <td>1.0</td>\n",
              "    </tr>\n",
              "    <tr>\n",
              "      <th>2</th>\n",
              "      <td>10</td>\n",
              "      <td>40</td>\n",
              "      <td>0</td>\n",
              "      <td>7</td>\n",
              "      <td>7688</td>\n",
              "      <td>0</td>\n",
              "      <td>2</td>\n",
              "      <td>0.0</td>\n",
              "      <td>0.0</td>\n",
              "      <td>1.0</td>\n",
              "      <td>0.0</td>\n",
              "      <td>0.0</td>\n",
              "      <td>0.0</td>\n",
              "      <td>1.0</td>\n",
              "    </tr>\n",
              "    <tr>\n",
              "      <th>3</th>\n",
              "      <td>10</td>\n",
              "      <td>30</td>\n",
              "      <td>3</td>\n",
              "      <td>0</td>\n",
              "      <td>0</td>\n",
              "      <td>0</td>\n",
              "      <td>4</td>\n",
              "      <td>0.0</td>\n",
              "      <td>0.0</td>\n",
              "      <td>0.0</td>\n",
              "      <td>0.0</td>\n",
              "      <td>1.0</td>\n",
              "      <td>1.0</td>\n",
              "      <td>0.0</td>\n",
              "    </tr>\n",
              "    <tr>\n",
              "      <th>4</th>\n",
              "      <td>6</td>\n",
              "      <td>30</td>\n",
              "      <td>1</td>\n",
              "      <td>8</td>\n",
              "      <td>0</td>\n",
              "      <td>0</td>\n",
              "      <td>4</td>\n",
              "      <td>0.0</td>\n",
              "      <td>0.0</td>\n",
              "      <td>0.0</td>\n",
              "      <td>0.0</td>\n",
              "      <td>1.0</td>\n",
              "      <td>0.0</td>\n",
              "      <td>1.0</td>\n",
              "    </tr>\n",
              "    <tr>\n",
              "      <th>...</th>\n",
              "      <td>...</td>\n",
              "      <td>...</td>\n",
              "      <td>...</td>\n",
              "      <td>...</td>\n",
              "      <td>...</td>\n",
              "      <td>...</td>\n",
              "      <td>...</td>\n",
              "      <td>...</td>\n",
              "      <td>...</td>\n",
              "      <td>...</td>\n",
              "      <td>...</td>\n",
              "      <td>...</td>\n",
              "      <td>...</td>\n",
              "      <td>...</td>\n",
              "    </tr>\n",
              "    <tr>\n",
              "      <th>13300</th>\n",
              "      <td>13</td>\n",
              "      <td>40</td>\n",
              "      <td>3</td>\n",
              "      <td>10</td>\n",
              "      <td>0</td>\n",
              "      <td>0</td>\n",
              "      <td>4</td>\n",
              "      <td>0.0</td>\n",
              "      <td>0.0</td>\n",
              "      <td>0.0</td>\n",
              "      <td>0.0</td>\n",
              "      <td>1.0</td>\n",
              "      <td>0.0</td>\n",
              "      <td>1.0</td>\n",
              "    </tr>\n",
              "    <tr>\n",
              "      <th>13301</th>\n",
              "      <td>13</td>\n",
              "      <td>36</td>\n",
              "      <td>1</td>\n",
              "      <td>10</td>\n",
              "      <td>0</td>\n",
              "      <td>0</td>\n",
              "      <td>0</td>\n",
              "      <td>0.0</td>\n",
              "      <td>0.0</td>\n",
              "      <td>0.0</td>\n",
              "      <td>0.0</td>\n",
              "      <td>1.0</td>\n",
              "      <td>1.0</td>\n",
              "      <td>0.0</td>\n",
              "    </tr>\n",
              "    <tr>\n",
              "      <th>13302</th>\n",
              "      <td>9</td>\n",
              "      <td>40</td>\n",
              "      <td>2</td>\n",
              "      <td>0</td>\n",
              "      <td>0</td>\n",
              "      <td>0</td>\n",
              "      <td>6</td>\n",
              "      <td>0.0</td>\n",
              "      <td>0.0</td>\n",
              "      <td>1.0</td>\n",
              "      <td>0.0</td>\n",
              "      <td>0.0</td>\n",
              "      <td>0.0</td>\n",
              "      <td>1.0</td>\n",
              "    </tr>\n",
              "    <tr>\n",
              "      <th>13303</th>\n",
              "      <td>13</td>\n",
              "      <td>50</td>\n",
              "      <td>0</td>\n",
              "      <td>10</td>\n",
              "      <td>0</td>\n",
              "      <td>0</td>\n",
              "      <td>2</td>\n",
              "      <td>0.0</td>\n",
              "      <td>0.0</td>\n",
              "      <td>0.0</td>\n",
              "      <td>0.0</td>\n",
              "      <td>1.0</td>\n",
              "      <td>0.0</td>\n",
              "      <td>1.0</td>\n",
              "    </tr>\n",
              "    <tr>\n",
              "      <th>13304</th>\n",
              "      <td>13</td>\n",
              "      <td>40</td>\n",
              "      <td>3</td>\n",
              "      <td>1</td>\n",
              "      <td>5455</td>\n",
              "      <td>0</td>\n",
              "      <td>0</td>\n",
              "      <td>0.0</td>\n",
              "      <td>1.0</td>\n",
              "      <td>0.0</td>\n",
              "      <td>0.0</td>\n",
              "      <td>0.0</td>\n",
              "      <td>0.0</td>\n",
              "      <td>1.0</td>\n",
              "    </tr>\n",
              "  </tbody>\n",
              "</table>\n",
              "<p>13305 rows × 14 columns</p>\n",
              "</div>"
            ],
            "text/plain": [
              "       F1  F2  F3  F4    F5  F6  ...  F10_1  F10_2  F10_3  F10_4  F11_0  F11_1\n",
              "0       7  40   3   7     0   0  ...    0.0    1.0    0.0    0.0    0.0    1.0\n",
              "1      12  40   0  11     0   0  ...    0.0    0.0    0.0    1.0    0.0    1.0\n",
              "2      10  40   0   7  7688   0  ...    0.0    1.0    0.0    0.0    0.0    1.0\n",
              "3      10  30   3   0     0   0  ...    0.0    0.0    0.0    1.0    1.0    0.0\n",
              "4       6  30   1   8     0   0  ...    0.0    0.0    0.0    1.0    0.0    1.0\n",
              "...    ..  ..  ..  ..   ...  ..  ...    ...    ...    ...    ...    ...    ...\n",
              "13300  13  40   3  10     0   0  ...    0.0    0.0    0.0    1.0    0.0    1.0\n",
              "13301  13  36   1  10     0   0  ...    0.0    0.0    0.0    1.0    1.0    0.0\n",
              "13302   9  40   2   0     0   0  ...    0.0    1.0    0.0    0.0    0.0    1.0\n",
              "13303  13  50   0  10     0   0  ...    0.0    0.0    0.0    1.0    0.0    1.0\n",
              "13304  13  40   3   1  5455   0  ...    1.0    0.0    0.0    0.0    0.0    1.0\n",
              "\n",
              "[13305 rows x 14 columns]"
            ]
          },
          "metadata": {},
          "execution_count": 69
        }
      ]
    },
    {
      "cell_type": "markdown",
      "metadata": {
        "id": "iONYyZLGSiHs"
      },
      "source": [
        "Gradient Boost Classifier on Test data"
      ]
    },
    {
      "cell_type": "code",
      "metadata": {
        "id": "OPgmOkopSXJc"
      },
      "source": [
        "clf = GradientBoostingClassifier(n_estimators=300, learning_rate=1.0, max_depth=2, random_state=1)\n",
        "clf.fit(Train_data,Train_credit)\n",
        "y_pred=clf.predict(Test_data)\n",
        " "
      ],
      "execution_count": 70,
      "outputs": []
    },
    {
      "cell_type": "markdown",
      "metadata": {
        "id": "36SF1JXHoQK9"
      },
      "source": [
        "Writing prediction to text file"
      ]
    },
    {
      "cell_type": "code",
      "metadata": {
        "id": "nF6UhxYnSsUi"
      },
      "source": [
        "output=open('./gradient.txt', 'w') \n",
        "output.writelines(\"%s \\n\"%i for i in y_pred)\n",
        "output.close()"
      ],
      "execution_count": 71,
      "outputs": []
    }
  ]
}